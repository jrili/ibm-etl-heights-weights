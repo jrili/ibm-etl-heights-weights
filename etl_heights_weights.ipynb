{
 "cells": [
  {
   "cell_type": "markdown",
   "id": "032b7965-7f46-4a21-ae0b-350909269934",
   "metadata": {},
   "source": [
    "_Instructions and dataset taken from IBM's [Python Project for Data Engineering](https://www.coursera.org/learn/python-project-for-data-engineering) from Coursera_"
   ]
  },
  {
   "cell_type": "markdown",
   "id": "15cef719-c4c0-41da-9a8a-3781b6c96c1b",
   "metadata": {},
   "source": [
    "# Objectives\n",
    "- Read CSV, JSON, and XML file types.\n",
    "- Extract the required data from the different file types.\n",
    "- Transform data to the required format.\n",
    "- Save the transformed data in a ready-to-load format, which can be loaded into an RDBMS."
   ]
  },
  {
   "attachments": {
    "f56c32fd-a004-4e3d-b17b-6d278689b868.png": {
     "image/png": "[encoded data removed]"
    }
   },
   "cell_type": "markdown",
   "id": "956b4eb8-a8bb-47db-b99f-ab5812d563a8",
   "metadata": {},
   "source": [
    "# Prerequisite Steps\n",
    "## 1.  Gather the data files\n",
    "\n",
    "```bash\n",
    "wget https://cf-courses-data.s3.us.cloud-object-storage.appdomain.cloud/IBMDeveloperSkillsNetwork-PY0221EN-SkillsNetwork/labs/module%206/Lab%20-%20Extract%20Transform%20Load/data/source.zip\n",
    "```\n",
    "\n",
    "> [!NOTE]\n",
    "> In case of unavailability, a snapshot of source.zip is also available in the root directory.\n",
    "> Date of snapshot: `2025 Mar 23`\n",
    "\n",
    "## 2. Unzip the downloaded file into a directory named `source`\n",
    "\n",
    "```bash\n",
    "unzip source.zip -d source\n",
    "```\n",
    "\n",
    "After extraction, the `source` directory is expected to have three(3) CSV files, three(3) JSON files, and three(3) XML files.\n",
    "![image.png](attachment:f56c32fd-a004-4e3d-b17b-6d278689b868.png)\n",
    "\n",
    "## 3. Install required libraries\n",
    "\n",
    "```bash\n",
    "python -m pip install -r requirements.txt\n",
    "```"
   ]
  },
  {
   "cell_type": "markdown",
   "id": "64636d3e-f805-4ddf-947d-4774094d8ef8",
   "metadata": {},
   "source": [
    "Import the necessary libraries"
   ]
  },
  {
   "cell_type": "code",
   "execution_count": 118,
   "id": "44d3a37b-6436-4068-945d-d6ac24d7265b",
   "metadata": {},
   "outputs": [],
   "source": [
    "# for iterating to files in a directory\n",
    "import glob \n",
    "\n",
    "# for data frame compilation and utilities\n",
    "import pandas as pd \n",
    "\n",
    "# for parsing XML files\n",
    "import xml.etree.ElementTree as ET \n",
    "\n",
    "# for log timestamps\n",
    "from datetime import datetime \n",
    "\n",
    "# for deleting the log file and output file, if existing, before the whole ETL process is run\n",
    "import os"
   ]
  },
  {
   "cell_type": "markdown",
   "id": "03e4f2de",
   "metadata": {},
   "source": [
    "Define some constants to be used for the rest of the notebook:\n",
    "\n",
    "`TARGET_OUTPUT_FILE`: filename of output file\n",
    "\n",
    "`LOG_FILE`: filename of event log file"
   ]
  },
  {
   "cell_type": "code",
   "execution_count": 119,
   "id": "9bfca238",
   "metadata": {},
   "outputs": [],
   "source": [
    "TARGET_OUTPUT_FILE = \"transformed_data.csv\"\n",
    "LOG_FILE = \"log_file.txt\""
   ]
  },
  {
   "cell_type": "markdown",
   "id": "466d3799",
   "metadata": {},
   "source": [
    "Delete target output file and log file, if existing, to start each run with a clean slate"
   ]
  },
  {
   "cell_type": "code",
   "execution_count": 120,
   "id": "69fc6aa4",
   "metadata": {},
   "outputs": [],
   "source": [
    "if os.path.exists(TARGET_OUTPUT_FILE):\n",
    "    os.remove(TARGET_OUTPUT_FILE)\n",
    "\n",
    "if os.path.exists(LOG_FILE):\n",
    "    os.remove(LOG_FILE)"
   ]
  },
  {
   "cell_type": "markdown",
   "id": "bab2ea49-ec5b-4561-a4c7-709643dd0668",
   "metadata": {},
   "source": [
    "# Project Task 1: Define logging method\n",
    "Develop a logging method `log()` that logs a message prefixed with a timestamp and appends it to the file with filename `LOG_FILE` previously defined."
   ]
  },
  {
   "cell_type": "code",
   "execution_count": 121,
   "id": "f8d6abbc-62be-4a16-a155-d55968b08b03",
   "metadata": {},
   "outputs": [],
   "source": [
    "def log(msg):\n",
    "    timestamp_format = \"%Y-%h-%d-%H:%M:%S\"\n",
    "    now = datetime.now()\n",
    "    timestamp_str = now.strftime(timestamp_format)\n",
    "\n",
    "    with open(LOG_FILE, \"a\") as f:\n",
    "        log_str = timestamp_str + \",\" + msg + \"\\n\"\n",
    "        f.write(log_str)"
   ]
  },
  {
   "cell_type": "markdown",
   "id": "d4cdf552-de48-416d-98cc-8c0936f592b9",
   "metadata": {},
   "source": [
    "# Project Task 2: Define extract methods\n",
    "Develop extract methods for the different file formats to be processed in the dataset.\n"
   ]
  },
  {
   "cell_type": "markdown",
   "id": "85bce98a-9cea-4f53-85df-fd735c28385f",
   "metadata": {},
   "source": [
    "## Extracting from CSV files\n",
    "**CSV** means comma-separated values. Taking a closer look at one of the input CSV files, we see that the first line contains names of the headers/columns. The headers are then immediately followed by values separated by commas:"
   ]
  },
  {
   "cell_type": "code",
   "execution_count": 122,
   "id": "96b0d873",
   "metadata": {},
   "outputs": [
    {
     "name": "stdout",
     "output_type": "stream",
     "text": [
      "name,height,weight\n",
      "alex,65.78,112.99\n",
      "ajay,71.52,136.49\n",
      "alice,69.40,153.03\n",
      "ravi,68.22,142.34\n",
      "joe,67.79,144.30\n",
      "\n"
     ]
    }
   ],
   "source": [
    "# Print contents of one of the input CSV files:\n",
    "with open('source/source1.csv', 'r') as file:\n",
    "    print(file.read())"
   ]
  },
  {
   "cell_type": "markdown",
   "id": "0c62842f",
   "metadata": {},
   "source": [
    "Pandas `read_csv()` method can be used straightforwardly to output a dataframe. This useful method also is able to get the column names from the header."
   ]
  },
  {
   "cell_type": "code",
   "execution_count": 123,
   "id": "0b798e99-f56d-4ecb-b0b8-d7e60a35d1c2",
   "metadata": {},
   "outputs": [],
   "source": [
    "def extract_from_csv(file_to_process):\n",
    "    log(f\"In extract_from_csv(): Extracting from file '{file_to_process}'\")\n",
    "    dataframe = pd.read_csv(file_to_process)\n",
    "    return dataframe"
   ]
  },
  {
   "cell_type": "markdown",
   "id": "448c4208",
   "metadata": {},
   "source": [
    "Calling the method above produces a dataframe that looks like:"
   ]
  },
  {
   "cell_type": "code",
   "execution_count": 124,
   "id": "3da94574",
   "metadata": {},
   "outputs": [
    {
     "name": "stdout",
     "output_type": "stream",
     "text": [
      "    name  height  weight\n",
      "0   alex   65.78  112.99\n",
      "1   ajay   71.52  136.49\n",
      "2  alice   69.40  153.03\n",
      "3   ravi   68.22  142.34\n",
      "4    joe   67.79  144.30\n"
     ]
    }
   ],
   "source": [
    "print(extract_from_csv('source/source1.csv'))"
   ]
  },
  {
   "cell_type": "markdown",
   "id": "f4ae5b2f-f760-48d8-8c03-020f31b19a7d",
   "metadata": {},
   "source": [
    "## Extracting from JSON files\n",
    "**JSON** means Javascript Object Notation and is a human-readable open standard file format and data interchange format. Generally comprised of key and value pairs (not dissimilar to a Python Dictionary), the values can be single values or a list.\n",
    "Sample from one of the input JSON files are shown below:"
   ]
  },
  {
   "cell_type": "code",
   "execution_count": 125,
   "id": "19849ccf",
   "metadata": {},
   "outputs": [
    {
     "name": "stdout",
     "output_type": "stream",
     "text": [
      "{\"name\":\"jack\",\"height\":68.70,\"weight\":123.30}\n",
      "{\"name\":\"tom\",\"height\":69.80,\"weight\":141.49}\n",
      "{\"name\":\"tracy\",\"height\":70.01,\"weight\":136.46}\n",
      "{\"name\":\"john\",\"height\":67.90,\"weight\":112.37}\n",
      "\n"
     ]
    }
   ],
   "source": [
    "# Print contents of one of the input JSON files:\n",
    "with open('source/source1.json', 'r') as file:\n",
    "    print(file.read())"
   ]
  },
  {
   "cell_type": "markdown",
   "id": "78e01146",
   "metadata": {},
   "source": [
    "Similar to extracting CSV files, Pandas also has a straightforward method `read_json`."
   ]
  },
  {
   "cell_type": "code",
   "execution_count": 126,
   "id": "19b8bdd5-840f-47f9-a5b3-6a2e56af7b64",
   "metadata": {},
   "outputs": [],
   "source": [
    "def extract_from_json(file_to_process):\n",
    "    log(f\"In extract_from_json(): Extracting from file '{file_to_process}'\")\n",
    "    dataframe = pd.read_json(file_to_process, lines=True)\n",
    "    return dataframe"
   ]
  },
  {
   "cell_type": "markdown",
   "id": "69af93b1",
   "metadata": {},
   "source": [
    "Calling the method above produces a dataframe that looks like:"
   ]
  },
  {
   "cell_type": "code",
   "execution_count": 127,
   "id": "b44e28ef",
   "metadata": {},
   "outputs": [
    {
     "name": "stdout",
     "output_type": "stream",
     "text": [
      "    name  height  weight\n",
      "0   jack   68.70  123.30\n",
      "1    tom   69.80  141.49\n",
      "2  tracy   70.01  136.46\n",
      "3   john   67.90  112.37\n"
     ]
    }
   ],
   "source": [
    "print(extract_from_json('source/source1.json'))"
   ]
  },
  {
   "cell_type": "markdown",
   "id": "05420002-a546-410a-9084-aa298c6eec65",
   "metadata": {},
   "source": [
    "## Extracting from XML files\n",
    "**XML** or the Extensible Markup Language is a markup language and file format used for data exchange. It looks similar to HTML but instead ofuses custom-defined tags instead of pre-defined tags ones. This format is both human-readable and machine-readable.\n",
    "Shown below is a sample from one of our input XML files:"
   ]
  },
  {
   "cell_type": "code",
   "execution_count": 128,
   "id": "2ccaf374",
   "metadata": {},
   "outputs": [
    {
     "name": "stdout",
     "output_type": "stream",
     "text": [
      "<?xml version=\"1.0\" encoding=\"UTF-8\"?>\n",
      "<data>\n",
      "   <person>\n",
      "      <name>simon</name>\n",
      "      <height>67.90</height>\n",
      "      <weight>112.37</weight>\n",
      "   </person>\n",
      "   <person>\n",
      "      <name>jacob</name>\n",
      "      <height>66.78</height>\n",
      "      <weight>120.67</weight>\n",
      "   </person>\n",
      "   <person>\n",
      "      <name>cindy</name>\n",
      "      <height>66.49</height>\n",
      "      <weight>127.45</weight>\n",
      "   </person>\n",
      "   <person>\n",
      "      <name>ivan</name>\n",
      "      <height>67.62</height>\n",
      "      <weight>114.14</weight>\n",
      "   </person>\n",
      "</data>\n"
     ]
    }
   ],
   "source": [
    "# Print contents of one of the input XML files:\n",
    "with open('source/source1.xml', 'r') as file:\n",
    "    print(file.read())"
   ]
  },
  {
   "cell_type": "markdown",
   "id": "73d8f1b0",
   "metadata": {},
   "source": [
    "We see in the above sample that each node in the XML tree corresponds to a `person`, and that each person has a `name`, `height`, and `weight`.\n",
    "\n",
    "- First, get the tree object using `xml.etree.ElementTree`'s `parse()` method\n",
    "- Next, we get the tree's root with the `getroot()` method\n",
    "- From the root, we can traverse the tree in a loop as shown in the succeeding code block\n",
    "- Each `person` node parsed yields one(1) row which we store to a dictionary\n",
    "- Compile each parsed row into a list of dicts `rows_list`\n",
    "- Finally after all XML `person` nodes have been processed, create a Pandas DataFrame from `rows_list`"
   ]
  },
  {
   "cell_type": "code",
   "execution_count": 129,
   "id": "cf76180a-0b4d-45d6-9851-3a0156766a94",
   "metadata": {},
   "outputs": [],
   "source": [
    "def extract_from_xml(file_to_process):\n",
    "    log(f\"In extract_from_xml(): Extracting from file '{file_to_process}'\")\n",
    "    rows_list = []\n",
    "    tree = ET.parse(file_to_process)\n",
    "    root = tree.getroot()\n",
    "    for person in root:\n",
    "        name = person.find(\"name\").text\n",
    "        height = float(person.find(\"height\").text)\n",
    "        weight = float(person.find(\"weight\").text)\n",
    "\n",
    "        rows_list.append({\"name\":name, \"height\":height, \"weight\":weight})\n",
    "    return pd.DataFrame.from_dict(rows_list)"
   ]
  },
  {
   "cell_type": "markdown",
   "id": "9a38c03f",
   "metadata": {},
   "source": [
    "Calling the method above produces a dataframe that looks like:"
   ]
  },
  {
   "cell_type": "code",
   "execution_count": 130,
   "id": "337d1d90",
   "metadata": {},
   "outputs": [
    {
     "name": "stdout",
     "output_type": "stream",
     "text": [
      "    name  height  weight\n",
      "0  simon   67.90  112.37\n",
      "1  jacob   66.78  120.67\n",
      "2  cindy   66.49  127.45\n",
      "3   ivan   67.62  114.14\n"
     ]
    }
   ],
   "source": [
    "print(extract_from_xml('source/source1.xml'))"
   ]
  },
  {
   "cell_type": "markdown",
   "id": "6452ad36-2a3c-4d88-9e04-df4db408a924",
   "metadata": {},
   "source": [
    "## Extract all inputs\n",
    "After all file types have an extract method, let's create a main `extract()` method that calls all of them in turn to return a single consolidated Pandas DataFrame.\n",
    "\n",
    "Note that the indices in the partial dataframes shown previously restart from zero every time. To properly index the resulting extracted data frame, it is important to set the `ignore_index` argument to True when Pandas `concat()` is called."
   ]
  },
  {
   "cell_type": "code",
   "execution_count": 131,
   "id": "884cc67b-1fa9-4db6-a7d3-d83717853f7b",
   "metadata": {},
   "outputs": [],
   "source": [
    "def extract():\n",
    "    log(\"In extract(): started\")\n",
    "    # Initialize list of extracted dataframes\n",
    "    # to be populated as the script goes through the dataset files\n",
    "    extracted_dfs_list = []\n",
    "\n",
    "    # Process all CSV files\n",
    "    log(\"In extract(): start processing CSV files\")\n",
    "    for csvfile in glob.glob(\"source/*.csv\"):\n",
    "        extracted_dfs_list.append(extract_from_csv(csvfile))\n",
    "    log(\"In extract(): done processing CSV files\")\n",
    "\n",
    "    # Process all JSON files\n",
    "    log(\"In extract(): start processing JSON files\")\n",
    "    for jsonfile in glob.glob(\"source/*.json\"):\n",
    "        extracted_dfs_list.append(extract_from_json(jsonfile))\n",
    "    log(\"In extract(): done processing JSON files\")\n",
    "\n",
    "    # Process all XML files\n",
    "    log(\"In extract(): start processing XML files\")\n",
    "    for xmlfile in glob.glob(\"source/*.xml\"):\n",
    "        extracted_dfs_list.append(extract_from_xml(xmlfile))\n",
    "    log(\"In extract(): done processing XML files\")\n",
    "\n",
    "    # Concatenate all dataframes in the extracted_dfs_list\n",
    "    # into a single DataFrame\n",
    "    # Note that ignore_index is set to True so that the index is rebuilt with properly incrementing values\n",
    "    extracted_data = pd.concat(extracted_dfs_list, ignore_index=True)\n",
    "\n",
    "    log(\"In extract(): ended\")\n",
    "    return extracted_data"
   ]
  },
  {
   "cell_type": "markdown",
   "id": "03a2a94f",
   "metadata": {},
   "source": [
    "Afterwards, let's call the `extract()` method to produce the extracted dataframe `extracted_data` from all of the available input files."
   ]
  },
  {
   "cell_type": "code",
   "execution_count": 132,
   "id": "e2f83f8f-c16e-47f3-96d7-820a8ed2c838",
   "metadata": {},
   "outputs": [],
   "source": [
    "log(\"ETL Job Started\")\n",
    "extracted_data = extract()"
   ]
  },
  {
   "cell_type": "markdown",
   "id": "f2d9f8ec",
   "metadata": {},
   "source": [
    "Let's take a peek at our data after extraction:"
   ]
  },
  {
   "cell_type": "code",
   "execution_count": 133,
   "id": "26106d1f",
   "metadata": {},
   "outputs": [
    {
     "name": "stdout",
     "output_type": "stream",
     "text": [
      "<class 'pandas.core.frame.DataFrame'>\n",
      "RangeIndex: 39 entries, 0 to 38\n",
      "Data columns (total 3 columns):\n",
      " #   Column  Non-Null Count  Dtype  \n",
      "---  ------  --------------  -----  \n",
      " 0   name    39 non-null     object \n",
      " 1   height  39 non-null     float64\n",
      " 2   weight  39 non-null     float64\n",
      "dtypes: float64(2), object(1)\n",
      "memory usage: 1.0+ KB\n",
      "None\n",
      "\n",
      "\n",
      "    name  height  weight\n",
      "0   alex   65.78  112.99\n",
      "1   ajay   71.52  136.49\n",
      "2  alice   69.40  153.03\n",
      "3   ravi   68.22  142.34\n",
      "4    joe   67.79  144.30\n"
     ]
    }
   ],
   "source": [
    "print(extracted_data.info())\n",
    "print('\\n')\n",
    "print(extracted_data.head())"
   ]
  },
  {
   "cell_type": "markdown",
   "id": "6758f267",
   "metadata": {},
   "source": [
    "After extraction, we have 39 extracted data entries.\n",
    "\n",
    "The exercise did not call for removal of duplicates, so we assume at this point that each entry is for a different person (even if they have the same name, height and weight)."
   ]
  },
  {
   "cell_type": "markdown",
   "id": "f81e19b5",
   "metadata": {},
   "source": [
    "# Project Task 3: Define the Transform method\n",
    "\n",
    "The height values in our dataset are in inches _(in.)_, while the weight values are in pounds _(lbs)_. The exercise material states that they should be converted to meters _(m)_ and kilograms _(kg)_, respectively.\n",
    "\n",
    "Below is the `transform()` method:"
   ]
  },
  {
   "cell_type": "code",
   "execution_count": 134,
   "id": "fefdedf9",
   "metadata": {},
   "outputs": [],
   "source": [
    "def transform(data):\n",
    "    log(\"In transform(): started\")\n",
    "    # Convert all Height values from in. to m\n",
    "    METERS_PER_INCH = 0.0254\n",
    "    data['height'] = round(data.height*METERS_PER_INCH, 2)\n",
    "\n",
    "    # Convert all Weight values from lb to kg\n",
    "    KG_PER_LB = 0.45359237\n",
    "    data['weight'] = round(data.weight*KG_PER_LB, 2)\n",
    "\n",
    "    log(\"In transform(): ended\")\n",
    "    return data"
   ]
  },
  {
   "cell_type": "markdown",
   "id": "bee8e62c",
   "metadata": {},
   "source": [
    "Afterwards, let's call the `transform()` method using the `extracted_data` as input."
   ]
  },
  {
   "cell_type": "code",
   "execution_count": 135,
   "id": "e44610c0",
   "metadata": {},
   "outputs": [],
   "source": [
    "transformed_data = transform(extracted_data)"
   ]
  },
  {
   "cell_type": "markdown",
   "id": "cfc10cc3",
   "metadata": {},
   "source": [
    "Let's look at the first few rows to see if the transformation was done properly:"
   ]
  },
  {
   "cell_type": "code",
   "execution_count": 136,
   "id": "ae141329",
   "metadata": {},
   "outputs": [
    {
     "name": "stdout",
     "output_type": "stream",
     "text": [
      "\n",
      "\n",
      "    name  height  weight\n",
      "0   alex    1.67   51.25\n",
      "1   ajay    1.82   61.91\n",
      "2  alice    1.76   69.41\n",
      "3   ravi    1.73   64.56\n",
      "4    joe    1.72   65.45\n"
     ]
    }
   ],
   "source": [
    "print('\\n')\n",
    "print(transformed_data.head())"
   ]
  },
  {
   "cell_type": "markdown",
   "id": "1501aef7",
   "metadata": {},
   "source": [
    "# Project Task 4: Define the Load method\n",
    "For the last task, we need to load the extracted and transformed data into a CSV file, which can be in turn loaded into a database. The loading to CSV file is easily done using Pandas `to_csv()` method.\n",
    "\n",
    "The filename for the output CSV file was previously defined as `TARGET_OUTPUT_FILE`.\n"
   ]
  },
  {
   "cell_type": "code",
   "execution_count": 137,
   "id": "a86e0aae",
   "metadata": {},
   "outputs": [],
   "source": [
    "def load_data(target_file, transformed_data):\n",
    "    log(f\"In load_data(): Loading data to file '{target_file}'\")\n",
    "    transformed_data.to_csv(target_file)\n",
    "    log(f\"In load_data(): Done loading data to file '{target_file}'\")\n",
    "\n"
   ]
  },
  {
   "cell_type": "markdown",
   "id": "387b6366",
   "metadata": {},
   "source": [
    "All that's left to do is to call the `load_data()` method specifying the output filename as `TARGET_OUTPUT_FILE` and the `transformed_data` data frame as the input."
   ]
  },
  {
   "cell_type": "code",
   "execution_count": 138,
   "id": "8ff3b32f",
   "metadata": {},
   "outputs": [],
   "source": [
    "load_data(TARGET_OUTPUT_FILE, transformed_data)\n",
    "log(\"ETL Job Ended\\n\")"
   ]
  },
  {
   "cell_type": "markdown",
   "id": "0e3056f9",
   "metadata": {},
   "source": [
    "# Checking the output file and logs\n",
    "Shown below are the contents of the output file of the ETL process."
   ]
  },
  {
   "cell_type": "code",
   "execution_count": 139,
   "id": "47c48795",
   "metadata": {},
   "outputs": [
    {
     "name": "stdout",
     "output_type": "stream",
     "text": [
      ",name,height,weight\n",
      "0,alex,1.67,51.25\n",
      "1,ajay,1.82,61.91\n",
      "2,alice,1.76,69.41\n",
      "3,ravi,1.73,64.56\n",
      "4,joe,1.72,65.45\n",
      "5,alex,1.67,51.25\n",
      "6,ajay,1.82,61.91\n",
      "7,alice,1.76,69.41\n",
      "8,ravi,1.73,64.56\n",
      "9,joe,1.72,65.45\n",
      "10,alex,1.67,51.25\n",
      "11,ajay,1.82,61.91\n",
      "12,alice,1.76,69.41\n",
      "13,ravi,1.73,64.56\n",
      "14,joe,1.72,65.45\n",
      "15,jack,1.74,55.93\n",
      "16,tom,1.77,64.18\n",
      "17,tracy,1.78,61.9\n",
      "18,john,1.72,50.97\n",
      "19,jack,1.74,55.93\n",
      "20,tom,1.77,64.18\n",
      "21,tracy,1.78,61.9\n",
      "22,john,1.72,50.97\n",
      "23,jack,1.74,55.93\n",
      "24,tom,1.77,64.18\n",
      "25,tracy,1.78,61.9\n",
      "26,john,1.72,50.97\n",
      "27,simon,1.72,50.97\n",
      "28,jacob,1.7,54.73\n",
      "29,cindy,1.69,57.81\n",
      "30,ivan,1.72,51.77\n",
      "31,simon,1.72,50.97\n",
      "32,jacob,1.7,54.73\n",
      "33,cindy,1.69,57.81\n",
      "34,ivan,1.72,51.77\n",
      "35,simon,1.72,50.97\n",
      "36,jacob,1.7,54.73\n",
      "37,cindy,1.69,57.81\n",
      "38,ivan,1.72,51.77\n",
      "\n"
     ]
    }
   ],
   "source": [
    "with open(TARGET_OUTPUT_FILE) as out_file:\n",
    "    print(out_file.read())"
   ]
  },
  {
   "cell_type": "markdown",
   "id": "1aaf5f51",
   "metadata": {},
   "source": [
    "We can also check the contents of the log file after the whole ETL process:"
   ]
  },
  {
   "cell_type": "code",
   "execution_count": 140,
   "id": "70a3da56",
   "metadata": {},
   "outputs": [
    {
     "name": "stdout",
     "output_type": "stream",
     "text": [
      "2025-Mar-24-14:35:56,In extract_from_csv(): Extracting from file 'source/source1.csv'\n",
      "2025-Mar-24-14:35:56,In extract_from_json(): Extracting from file 'source/source1.json'\n",
      "2025-Mar-24-14:35:56,In extract_from_xml(): Extracting from file 'source/source1.xml'\n",
      "2025-Mar-24-14:35:56,ETL Job Started\n",
      "2025-Mar-24-14:35:56,In extract(): started\n",
      "2025-Mar-24-14:35:56,In extract(): start processing CSV files\n",
      "2025-Mar-24-14:35:56,In extract_from_csv(): Extracting from file 'source\\source1.csv'\n",
      "2025-Mar-24-14:35:56,In extract_from_csv(): Extracting from file 'source\\source2.csv'\n",
      "2025-Mar-24-14:35:56,In extract_from_csv(): Extracting from file 'source\\source3.csv'\n",
      "2025-Mar-24-14:35:56,In extract(): done processing CSV files\n",
      "2025-Mar-24-14:35:56,In extract(): start processing JSON files\n",
      "2025-Mar-24-14:35:56,In extract_from_json(): Extracting from file 'source\\source1.json'\n",
      "2025-Mar-24-14:35:56,In extract_from_json(): Extracting from file 'source\\source2.json'\n",
      "2025-Mar-24-14:35:56,In extract_from_json(): Extracting from file 'source\\source3.json'\n",
      "2025-Mar-24-14:35:56,In extract(): done processing JSON files\n",
      "2025-Mar-24-14:35:56,In extract(): start processing XML files\n",
      "2025-Mar-24-14:35:56,In extract_from_xml(): Extracting from file 'source\\source1.xml'\n",
      "2025-Mar-24-14:35:56,In extract_from_xml(): Extracting from file 'source\\source2.xml'\n",
      "2025-Mar-24-14:35:56,In extract_from_xml(): Extracting from file 'source\\source3.xml'\n",
      "2025-Mar-24-14:35:56,In extract(): done processing XML files\n",
      "2025-Mar-24-14:35:56,In extract(): ended\n",
      "2025-Mar-24-14:35:57,In transform(): started\n",
      "2025-Mar-24-14:35:57,In transform(): ended\n",
      "2025-Mar-24-14:35:57,In load_data(): Loading data to file 'transformed_data.csv'\n",
      "2025-Mar-24-14:35:57,In load_data(): Done loading data to file 'transformed_data.csv'\n",
      "2025-Mar-24-14:35:57,ETL Job Ended\n",
      "\n",
      "\n"
     ]
    }
   ],
   "source": [
    "with open(LOG_FILE) as log_file:\n",
    "    print(log_file.read())"
   ]
  },
  {
   "cell_type": "markdown",
   "id": "ab7a4a50",
   "metadata": {},
   "source": [
    "# Acknowledgements\n",
    "## Course Instructors\n",
    "- Ramesh Sannareddy\n",
    "- Joseph Santarcangelo\n",
    "- Abhishek Gagneja\n",
    "## Course Offered By\n",
    "* [IBM Skills Network](https://www.coursera.org/partners/ibm-skills-network)"
   ]
  }
 ],
 "metadata": {
  "kernelspec": {
   "display_name": "Python 3",
   "language": "python",
   "name": "python3"
  },
  "language_info": {
   "codemirror_mode": {
    "name": "ipython",
    "version": 3
   },
   "file_extension": ".py",
   "mimetype": "text/x-python",
   "name": "python",
   "nbconvert_exporter": "python",
   "pygments_lexer": "ipython3",
   "version": "3.13.0"
  }
 },
 "nbformat": 4,
 "nbformat_minor": 5
}
